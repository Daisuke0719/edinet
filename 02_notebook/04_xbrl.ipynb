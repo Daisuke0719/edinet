{
 "cells": [
  {
   "cell_type": "code",
   "execution_count": 2,
   "metadata": {},
   "outputs": [],
   "source": [
    "from settings import *\n",
    "import sqlite3\n",
    "import urllib3\n",
    "import certifi\n",
    "import os\n",
    "import requests\n",
    "import time\n",
    "from pathlib import Path\n",
    "import zipfile\n",
    "from urllib3.exceptions import InsecureRequestWarning\n",
    "#InsecureRequestWarningを無視\n",
    "urllib3.disable_warnings(InsecureRequestWarning)"
   ]
  },
  {
   "cell_type": "code",
   "execution_count": 23,
   "metadata": {},
   "outputs": [],
   "source": [
    "def get_xbrl_dir_path() :\n",
    "    \"\"\"\n",
    "    XBRLファイルの保存ディレクトリを取得する\n",
    "    \"\"\"\n",
    "    \n",
    "    return Path(\"../01_data/CA\")\n",
    "\n",
    "def get_xbrl_file_path(doc_id) :\n",
    "    \"\"\"\n",
    "    XBRLファイルの保存パスを取得する\n",
    "    \"\"\"\n",
    "    return get_xbrl_dir_path().joinpath(f\"{doc_id}.zip\")\n",
    "\n",
    "#zipファイルの展開\n",
    "def unzip_xbrl(zip_file_path) :\n",
    "    \"\"\"\n",
    "    XBRLファイルを展開する\n",
    "    \"\"\"\n",
    "    # ファイルが存在しない場合は終了\n",
    "    if not zip_file_path.exists() :\n",
    "        return\n",
    "    # 展開\n",
    "    with zipfile.ZipFile(zip_file_path) as zip_f :\n",
    "        # ファイルを展開\n",
    "        dir_path = zip_file_path.parent.joinpath(zip_file_path.stem)\n",
    "        dir_path.mkdir(exist_ok=True)\n",
    "        zip_f.extractall(dir_path)"
   ]
  },
  {
   "cell_type": "code",
   "execution_count": 25,
   "metadata": {},
   "outputs": [],
   "source": [
    "dir_path = get_xbrl_dir_path()\n",
    "\n",
    "for zip_file_path in dir_path.glob(\"*.zip\"):\n",
    "    unzip_xbrl(zip_file_path)"
   ]
  },
  {
   "cell_type": "code",
   "execution_count": 15,
   "metadata": {},
   "outputs": [
    {
     "name": "stdout",
     "output_type": "stream",
     "text": [
      "01_make_list.ipynb 03_get_xbrl.ipynb  \u001b[34mXBRL\u001b[m\u001b[m               markdown.md\n",
      "02_make_db.ipynb   04_xbrl.ipynb      \u001b[34m__pycache__\u001b[m\u001b[m        settings.py\n"
     ]
    }
   ],
   "source": [
    "!ls"
   ]
  },
  {
   "cell_type": "code",
   "execution_count": 22,
   "metadata": {},
   "outputs": [
    {
     "data": {
      "text/plain": [
       "False"
      ]
     },
     "execution_count": 22,
     "metadata": {},
     "output_type": "execute_result"
    }
   ],
   "source": [
    "#\n",
    "zip_file_path.parent.joinpath(zip_file_path.stem).exists()"
   ]
  },
  {
   "cell_type": "code",
   "execution_count": 21,
   "metadata": {},
   "outputs": [
    {
     "data": {
      "text/plain": [
       "'S100HMPO'"
      ]
     },
     "execution_count": 21,
     "metadata": {},
     "output_type": "execute_result"
    }
   ],
   "source": [
    "zip_file_path.stem"
   ]
  },
  {
   "cell_type": "code",
   "execution_count": null,
   "metadata": {},
   "outputs": [],
   "source": []
  }
 ],
 "metadata": {
  "kernelspec": {
   "display_name": "env",
   "language": "python",
   "name": "python3"
  },
  "language_info": {
   "codemirror_mode": {
    "name": "ipython",
    "version": 3
   },
   "file_extension": ".py",
   "mimetype": "text/x-python",
   "name": "python",
   "nbconvert_exporter": "python",
   "pygments_lexer": "ipython3",
   "version": "3.9.6"
  },
  "orig_nbformat": 4
 },
 "nbformat": 4,
 "nbformat_minor": 2
}
